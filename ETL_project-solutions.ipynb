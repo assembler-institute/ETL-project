{
 "cells": [
  {
   "attachments": {},
   "cell_type": "markdown",
   "id": "18e08b15-15f9-412b-bb4e-cccc6bde155c",
   "metadata": {},
   "source": [
    "# Soluciones Proyecto ETL"
   ]
  },
  {
   "cell_type": "code",
   "execution_count": 1,
   "id": "71dba208-1d90-4267-b370-368e5b2b18a2",
   "metadata": {},
   "outputs": [],
   "source": [
    "import pandas as pd\n",
    "import requests\n",
    "import datetime"
   ]
  },
  {
   "attachments": {},
   "cell_type": "markdown",
   "id": "024dc714-57ee-420d-9bb8-5445cc5454e2",
   "metadata": {},
   "source": [
    "## Ejercicio 1"
   ]
  },
  {
   "cell_type": "code",
   "execution_count": 2,
   "id": "dfd39dcd-cfd0-4b01-bbd8-546c6767bbad",
   "metadata": {},
   "outputs": [],
   "source": [
    "postal_codes_raw = pd.read_csv('./ETL_project-postal_codes.csv', sep=';', encoding = \"utf-8\")"
   ]
  },
  {
   "cell_type": "code",
   "execution_count": 4,
   "id": "6a34a96f",
   "metadata": {},
   "outputs": [
    {
     "data": {
      "text/html": [
       "<div>\n",
       "<style scoped>\n",
       "    .dataframe tbody tr th:only-of-type {\n",
       "        vertical-align: middle;\n",
       "    }\n",
       "\n",
       "    .dataframe tbody tr th {\n",
       "        vertical-align: top;\n",
       "    }\n",
       "\n",
       "    .dataframe thead th {\n",
       "        text-align: right;\n",
       "    }\n",
       "</style>\n",
       "<table border=\"1\" class=\"dataframe\">\n",
       "  <thead>\n",
       "    <tr style=\"text-align: right;\">\n",
       "      <th></th>\n",
       "      <th>provincia</th>\n",
       "      <th>poblacion</th>\n",
       "      <th>Código Postal</th>\n",
       "    </tr>\n",
       "  </thead>\n",
       "  <tbody>\n",
       "    <tr>\n",
       "      <th>2</th>\n",
       "      <td>Araba/Álava</td>\n",
       "      <td>Vitoria-Gasteiz</td>\n",
       "      <td>1001</td>\n",
       "    </tr>\n",
       "    <tr>\n",
       "      <th>3</th>\n",
       "      <td>Araba/Álava</td>\n",
       "      <td>Vitoria-Gasteiz</td>\n",
       "      <td>1002</td>\n",
       "    </tr>\n",
       "  </tbody>\n",
       "</table>\n",
       "</div>"
      ],
      "text/plain": [
       "     provincia        poblacion  Código Postal\n",
       "2  Araba/Álava  Vitoria-Gasteiz           1001\n",
       "3  Araba/Álava  Vitoria-Gasteiz           1002"
      ]
     },
     "execution_count": 4,
     "metadata": {},
     "output_type": "execute_result"
    }
   ],
   "source": [
    "postal_codes_raw.iloc[2:4]"
   ]
  },
  {
   "cell_type": "code",
   "execution_count": 5,
   "id": "81c87699",
   "metadata": {},
   "outputs": [
    {
     "data": {
      "text/html": [
       "<div>\n",
       "<style scoped>\n",
       "    .dataframe tbody tr th:only-of-type {\n",
       "        vertical-align: middle;\n",
       "    }\n",
       "\n",
       "    .dataframe tbody tr th {\n",
       "        vertical-align: top;\n",
       "    }\n",
       "\n",
       "    .dataframe thead th {\n",
       "        text-align: right;\n",
       "    }\n",
       "</style>\n",
       "<table border=\"1\" class=\"dataframe\">\n",
       "  <thead>\n",
       "    <tr style=\"text-align: right;\">\n",
       "      <th></th>\n",
       "      <th>poblacion</th>\n",
       "      <th>Código Postal</th>\n",
       "    </tr>\n",
       "    <tr>\n",
       "      <th>provincia</th>\n",
       "      <th></th>\n",
       "      <th></th>\n",
       "    </tr>\n",
       "  </thead>\n",
       "  <tbody>\n",
       "    <tr>\n",
       "      <th>A Coru?a</th>\n",
       "      <td>93</td>\n",
       "      <td>382</td>\n",
       "    </tr>\n",
       "    <tr>\n",
       "      <th>Albacete</th>\n",
       "      <td>87</td>\n",
       "      <td>147</td>\n",
       "    </tr>\n",
       "    <tr>\n",
       "      <th>Alicante/Alacant</th>\n",
       "      <td>141</td>\n",
       "      <td>204</td>\n",
       "    </tr>\n",
       "  </tbody>\n",
       "</table>\n",
       "</div>"
      ],
      "text/plain": [
       "                  poblacion  Código Postal\n",
       "provincia                                 \n",
       "A Coru?a                 93            382\n",
       "Albacete                 87            147\n",
       "Alicante/Alacant        141            204"
      ]
     },
     "execution_count": 5,
     "metadata": {},
     "output_type": "execute_result"
    }
   ],
   "source": [
    "postal_codes_raw.groupby('provincia').nunique().head(3)"
   ]
  },
  {
   "cell_type": "code",
   "execution_count": 6,
   "id": "570a617e-98f0-4a7e-9de4-e3ed90d056e3",
   "metadata": {},
   "outputs": [],
   "source": [
    "data = []\n",
    "ids = 1\n",
    "for i in postal_codes_raw.index:\n",
    "    row = postal_codes_raw.iloc[i]\n",
    "    \n",
    "    result = {\"id\": ids + 1000, \"cp\": row['Código Postal']}\n",
    "    ids += 1\n",
    "    \n",
    "    prov_names = row['provincia'].replace('?', 'ñ').split('/')\n",
    "    city_names = row['poblacion'].replace('?', 'ñ').split('/')\n",
    "    \n",
    "    if len(prov_names) == 1:\n",
    "        result['provincia'] = prov_names[0]\n",
    "        result['provincia_local'] = prov_names[0]\n",
    "    else:\n",
    "        result['provincia'] = prov_names[1]\n",
    "        result['provincia_local'] = prov_names[0]\n",
    "        \n",
    "    if len(city_names) == 1:\n",
    "        result['ciudad'] = city_names[0]\n",
    "        result['ciudad_local'] = city_names[0]\n",
    "    else:\n",
    "        result['ciudad'] = city_names[1]\n",
    "        result['ciudad_local'] = city_names[0]\n",
    "        \n",
    "    data.append(result)\n",
    "    \n",
    "cp_table = pd.DataFrame(data, columns= data[0].keys())\n",
    "    "
   ]
  },
  {
   "cell_type": "code",
   "execution_count": 7,
   "id": "61aec81e-c2e7-4a2b-b873-a610e360f766",
   "metadata": {},
   "outputs": [
    {
     "data": {
      "text/html": [
       "<div>\n",
       "<style scoped>\n",
       "    .dataframe tbody tr th:only-of-type {\n",
       "        vertical-align: middle;\n",
       "    }\n",
       "\n",
       "    .dataframe tbody tr th {\n",
       "        vertical-align: top;\n",
       "    }\n",
       "\n",
       "    .dataframe thead th {\n",
       "        text-align: right;\n",
       "    }\n",
       "</style>\n",
       "<table border=\"1\" class=\"dataframe\">\n",
       "  <thead>\n",
       "    <tr style=\"text-align: right;\">\n",
       "      <th></th>\n",
       "      <th>id</th>\n",
       "      <th>cp</th>\n",
       "      <th>provincia</th>\n",
       "      <th>provincia_local</th>\n",
       "      <th>ciudad</th>\n",
       "      <th>ciudad_local</th>\n",
       "    </tr>\n",
       "  </thead>\n",
       "  <tbody>\n",
       "    <tr>\n",
       "      <th>2</th>\n",
       "      <td>1003</td>\n",
       "      <td>1001</td>\n",
       "      <td>Álava</td>\n",
       "      <td>Araba</td>\n",
       "      <td>Vitoria-Gasteiz</td>\n",
       "      <td>Vitoria-Gasteiz</td>\n",
       "    </tr>\n",
       "    <tr>\n",
       "      <th>3</th>\n",
       "      <td>1004</td>\n",
       "      <td>1002</td>\n",
       "      <td>Álava</td>\n",
       "      <td>Araba</td>\n",
       "      <td>Vitoria-Gasteiz</td>\n",
       "      <td>Vitoria-Gasteiz</td>\n",
       "    </tr>\n",
       "  </tbody>\n",
       "</table>\n",
       "</div>"
      ],
      "text/plain": [
       "     id    cp provincia provincia_local           ciudad     ciudad_local\n",
       "2  1003  1001     Álava           Araba  Vitoria-Gasteiz  Vitoria-Gasteiz\n",
       "3  1004  1002     Álava           Araba  Vitoria-Gasteiz  Vitoria-Gasteiz"
      ]
     },
     "execution_count": 7,
     "metadata": {},
     "output_type": "execute_result"
    }
   ],
   "source": [
    "cp_table.iloc[2:4]"
   ]
  },
  {
   "attachments": {},
   "cell_type": "markdown",
   "id": "e4e3fa83-0730-484d-99e8-bd3533be2055",
   "metadata": {},
   "source": [
    "## Ejercicio 2"
   ]
  },
  {
   "cell_type": "code",
   "execution_count": 8,
   "id": "6de96bf6-9ca7-4a10-9756-22dd3efa1587",
   "metadata": {},
   "outputs": [],
   "source": [
    "basic_headers = {'User-Agent': 'Mozilla/5.0'}\n",
    "endpoint = 'https://servicios.ine.es/wstempus/js/es/DATOS_TABLA/33791?tip=AM'\n",
    "payload = requests.get(endpoint, headers=basic_headers)"
   ]
  },
  {
   "cell_type": "code",
   "execution_count": 9,
   "id": "d2aaca02-ecfd-436d-bbbb-81b3e6ef7cb5",
   "metadata": {},
   "outputs": [],
   "source": [
    "population_data = payload.json()"
   ]
  },
  {
   "cell_type": "code",
   "execution_count": 10,
   "id": "883f3b0d-76dc-42b1-b4d9-5ece8760b548",
   "metadata": {},
   "outputs": [],
   "source": [
    "population_clean = []\n",
    "pop_err = []\n",
    "for reg in population_data:\n",
    "    \n",
    "    try:\n",
    "        if reg['MetaData'][1]['Variable']['Codigo'] == 'MUN':\n",
    "            temp = {\"id\": reg['COD']}\n",
    "            temp['Poblacion'] = reg['MetaData'][1]['Nombre']\n",
    "            temp['Origen'] = reg['MetaData'][2]['Nombre']\n",
    "\n",
    "            for row in reg['Data']:\n",
    "                temp[datetime.datetime.strptime(row['Fecha'], '%Y-%m-%dT%H:%M:%S.000+01:00').year] = int(row['Valor'])\n",
    "\n",
    "            population_clean.append(temp)\n",
    "    \n",
    "    except Exception as e:\n",
    "            pop_err.append(reg)\n",
    "            print(e)"
   ]
  },
  {
   "cell_type": "code",
   "execution_count": 11,
   "id": "afb5fee4",
   "metadata": {},
   "outputs": [
    {
     "data": {
      "text/plain": [
       "[]"
      ]
     },
     "execution_count": 11,
     "metadata": {},
     "output_type": "execute_result"
    }
   ],
   "source": [
    "pop_err"
   ]
  },
  {
   "cell_type": "code",
   "execution_count": 12,
   "id": "93d3c93e",
   "metadata": {},
   "outputs": [
    {
     "data": {
      "text/plain": [
       "26520"
      ]
     },
     "execution_count": 12,
     "metadata": {},
     "output_type": "execute_result"
    }
   ],
   "source": [
    "len(population_clean)"
   ]
  },
  {
   "cell_type": "code",
   "execution_count": 13,
   "id": "c4809a1d-4b27-41b3-9c50-79db6c670e14",
   "metadata": {},
   "outputs": [
    {
     "data": {
      "text/html": [
       "<div>\n",
       "<style scoped>\n",
       "    .dataframe tbody tr th:only-of-type {\n",
       "        vertical-align: middle;\n",
       "    }\n",
       "\n",
       "    .dataframe tbody tr th {\n",
       "        vertical-align: top;\n",
       "    }\n",
       "\n",
       "    .dataframe thead th {\n",
       "        text-align: right;\n",
       "    }\n",
       "</style>\n",
       "<table border=\"1\" class=\"dataframe\">\n",
       "  <thead>\n",
       "    <tr style=\"text-align: right;\">\n",
       "      <th></th>\n",
       "      <th>id</th>\n",
       "      <th>Poblacion</th>\n",
       "      <th>Origen</th>\n",
       "      <th>2022</th>\n",
       "      <th>2021</th>\n",
       "      <th>2020</th>\n",
       "      <th>2019</th>\n",
       "      <th>2018</th>\n",
       "      <th>2017</th>\n",
       "      <th>2016</th>\n",
       "      <th>...</th>\n",
       "      <th>2012</th>\n",
       "      <th>2011</th>\n",
       "      <th>2010</th>\n",
       "      <th>2009</th>\n",
       "      <th>2008</th>\n",
       "      <th>2007</th>\n",
       "      <th>2006</th>\n",
       "      <th>2005</th>\n",
       "      <th>2004</th>\n",
       "      <th>2003</th>\n",
       "    </tr>\n",
       "  </thead>\n",
       "  <tbody>\n",
       "    <tr>\n",
       "      <th>0</th>\n",
       "      <td>PC5662094</td>\n",
       "      <td>Agullana</td>\n",
       "      <td>Total</td>\n",
       "      <td>903.0</td>\n",
       "      <td>885.0</td>\n",
       "      <td>863.0</td>\n",
       "      <td>831.0</td>\n",
       "      <td>841.0</td>\n",
       "      <td>831.0</td>\n",
       "      <td>841.0</td>\n",
       "      <td>...</td>\n",
       "      <td>858.0</td>\n",
       "      <td>839.0</td>\n",
       "      <td>840.0</td>\n",
       "      <td>812.0</td>\n",
       "      <td>806.0</td>\n",
       "      <td>753.0</td>\n",
       "      <td>756.0</td>\n",
       "      <td>759.0</td>\n",
       "      <td>746.0</td>\n",
       "      <td>723.0</td>\n",
       "    </tr>\n",
       "    <tr>\n",
       "      <th>1</th>\n",
       "      <td>PC5662093</td>\n",
       "      <td>Agullana</td>\n",
       "      <td>España</td>\n",
       "      <td>735.0</td>\n",
       "      <td>711.0</td>\n",
       "      <td>704.0</td>\n",
       "      <td>689.0</td>\n",
       "      <td>697.0</td>\n",
       "      <td>692.0</td>\n",
       "      <td>704.0</td>\n",
       "      <td>...</td>\n",
       "      <td>678.0</td>\n",
       "      <td>657.0</td>\n",
       "      <td>651.0</td>\n",
       "      <td>645.0</td>\n",
       "      <td>648.0</td>\n",
       "      <td>645.0</td>\n",
       "      <td>662.0</td>\n",
       "      <td>670.0</td>\n",
       "      <td>657.0</td>\n",
       "      <td>664.0</td>\n",
       "    </tr>\n",
       "    <tr>\n",
       "      <th>2</th>\n",
       "      <td>PC5662092</td>\n",
       "      <td>Agullana</td>\n",
       "      <td>Extranjero</td>\n",
       "      <td>168.0</td>\n",
       "      <td>174.0</td>\n",
       "      <td>159.0</td>\n",
       "      <td>142.0</td>\n",
       "      <td>144.0</td>\n",
       "      <td>139.0</td>\n",
       "      <td>137.0</td>\n",
       "      <td>...</td>\n",
       "      <td>180.0</td>\n",
       "      <td>182.0</td>\n",
       "      <td>189.0</td>\n",
       "      <td>167.0</td>\n",
       "      <td>158.0</td>\n",
       "      <td>108.0</td>\n",
       "      <td>94.0</td>\n",
       "      <td>89.0</td>\n",
       "      <td>89.0</td>\n",
       "      <td>59.0</td>\n",
       "    </tr>\n",
       "    <tr>\n",
       "      <th>3</th>\n",
       "      <td>PC5662063</td>\n",
       "      <td>Agullana</td>\n",
       "      <td>Europa (sin España)</td>\n",
       "      <td>71.0</td>\n",
       "      <td>79.0</td>\n",
       "      <td>67.0</td>\n",
       "      <td>56.0</td>\n",
       "      <td>57.0</td>\n",
       "      <td>53.0</td>\n",
       "      <td>55.0</td>\n",
       "      <td>...</td>\n",
       "      <td>94.0</td>\n",
       "      <td>103.0</td>\n",
       "      <td>103.0</td>\n",
       "      <td>92.0</td>\n",
       "      <td>84.0</td>\n",
       "      <td>59.0</td>\n",
       "      <td>51.0</td>\n",
       "      <td>55.0</td>\n",
       "      <td>53.0</td>\n",
       "      <td>33.0</td>\n",
       "    </tr>\n",
       "    <tr>\n",
       "      <th>4</th>\n",
       "      <td>PC5662062</td>\n",
       "      <td>Agullana</td>\n",
       "      <td>UE28 sin España</td>\n",
       "      <td>NaN</td>\n",
       "      <td>NaN</td>\n",
       "      <td>57.0</td>\n",
       "      <td>50.0</td>\n",
       "      <td>54.0</td>\n",
       "      <td>49.0</td>\n",
       "      <td>51.0</td>\n",
       "      <td>...</td>\n",
       "      <td>89.0</td>\n",
       "      <td>97.0</td>\n",
       "      <td>96.0</td>\n",
       "      <td>87.0</td>\n",
       "      <td>79.0</td>\n",
       "      <td>56.0</td>\n",
       "      <td>48.0</td>\n",
       "      <td>49.0</td>\n",
       "      <td>46.0</td>\n",
       "      <td>28.0</td>\n",
       "    </tr>\n",
       "  </tbody>\n",
       "</table>\n",
       "<p>5 rows × 23 columns</p>\n",
       "</div>"
      ],
      "text/plain": [
       "          id Poblacion               Origen   2022   2021   2020   2019  \\\n",
       "0  PC5662094  Agullana                Total  903.0  885.0  863.0  831.0   \n",
       "1  PC5662093  Agullana               España  735.0  711.0  704.0  689.0   \n",
       "2  PC5662092  Agullana           Extranjero  168.0  174.0  159.0  142.0   \n",
       "3  PC5662063  Agullana  Europa (sin España)   71.0   79.0   67.0   56.0   \n",
       "4  PC5662062  Agullana      UE28 sin España    NaN    NaN   57.0   50.0   \n",
       "\n",
       "    2018   2017   2016  ...   2012   2011   2010   2009   2008   2007   2006  \\\n",
       "0  841.0  831.0  841.0  ...  858.0  839.0  840.0  812.0  806.0  753.0  756.0   \n",
       "1  697.0  692.0  704.0  ...  678.0  657.0  651.0  645.0  648.0  645.0  662.0   \n",
       "2  144.0  139.0  137.0  ...  180.0  182.0  189.0  167.0  158.0  108.0   94.0   \n",
       "3   57.0   53.0   55.0  ...   94.0  103.0  103.0   92.0   84.0   59.0   51.0   \n",
       "4   54.0   49.0   51.0  ...   89.0   97.0   96.0   87.0   79.0   56.0   48.0   \n",
       "\n",
       "    2005   2004   2003  \n",
       "0  759.0  746.0  723.0  \n",
       "1  670.0  657.0  664.0  \n",
       "2   89.0   89.0   59.0  \n",
       "3   55.0   53.0   33.0  \n",
       "4   49.0   46.0   28.0  \n",
       "\n",
       "[5 rows x 23 columns]"
      ]
     },
     "execution_count": 13,
     "metadata": {},
     "output_type": "execute_result"
    }
   ],
   "source": [
    "population_std = pd.DataFrame(population_clean, columns=population_clean[0].keys())\n",
    "population_std.head()"
   ]
  },
  {
   "cell_type": "code",
   "execution_count": 14,
   "id": "f8030838",
   "metadata": {},
   "outputs": [
    {
     "data": {
      "text/html": [
       "<div>\n",
       "<style scoped>\n",
       "    .dataframe tbody tr th:only-of-type {\n",
       "        vertical-align: middle;\n",
       "    }\n",
       "\n",
       "    .dataframe tbody tr th {\n",
       "        vertical-align: top;\n",
       "    }\n",
       "\n",
       "    .dataframe thead th {\n",
       "        text-align: right;\n",
       "    }\n",
       "</style>\n",
       "<table border=\"1\" class=\"dataframe\">\n",
       "  <thead>\n",
       "    <tr style=\"text-align: right;\">\n",
       "      <th></th>\n",
       "      <th>id</th>\n",
       "      <th>Poblacion</th>\n",
       "      <th>Origen</th>\n",
       "      <th>2022</th>\n",
       "      <th>2021</th>\n",
       "      <th>2020</th>\n",
       "      <th>2019</th>\n",
       "      <th>2018</th>\n",
       "      <th>2017</th>\n",
       "      <th>2016</th>\n",
       "      <th>...</th>\n",
       "      <th>2012</th>\n",
       "      <th>2011</th>\n",
       "      <th>2010</th>\n",
       "      <th>2009</th>\n",
       "      <th>2008</th>\n",
       "      <th>2007</th>\n",
       "      <th>2006</th>\n",
       "      <th>2005</th>\n",
       "      <th>2004</th>\n",
       "      <th>2003</th>\n",
       "    </tr>\n",
       "  </thead>\n",
       "  <tbody>\n",
       "  </tbody>\n",
       "</table>\n",
       "<p>0 rows × 23 columns</p>\n",
       "</div>"
      ],
      "text/plain": [
       "Empty DataFrame\n",
       "Columns: [id, Poblacion, Origen, 2022, 2021, 2020, 2019, 2018, 2017, 2016, 2015, 2014, 2013, 2012, 2011, 2010, 2009, 2008, 2007, 2006, 2005, 2004, 2003]\n",
       "Index: []\n",
       "\n",
       "[0 rows x 23 columns]"
      ]
     },
     "execution_count": 14,
     "metadata": {},
     "output_type": "execute_result"
    }
   ],
   "source": [
    "duplicates = population_std['id'].duplicated()\n",
    "duplicated_df = population_std[duplicates]\n",
    "duplicated_df"
   ]
  },
  {
   "attachments": {},
   "cell_type": "markdown",
   "id": "ea2286ed-8089-4a81-bf5e-e8437174ffac",
   "metadata": {},
   "source": [
    "## Ejercicio 3"
   ]
  },
  {
   "cell_type": "code",
   "execution_count": 15,
   "id": "8bfec9f3",
   "metadata": {},
   "outputs": [],
   "source": [
    "df = pd.read_csv('datosgobes.csv', encoding = \"utf-8\")"
   ]
  },
  {
   "cell_type": "code",
   "execution_count": 16,
   "id": "c2eb0cae",
   "metadata": {},
   "outputs": [],
   "source": [
    "# df.to_excel('datosgobes.xlsx', index=False)"
   ]
  },
  {
   "cell_type": "code",
   "execution_count": 17,
   "id": "11df4d01",
   "metadata": {},
   "outputs": [
    {
     "data": {
      "text/plain": [
       "0    [TITLE_es]pdf[ACCESS_URL]https://www.aepd.es/r...\n",
       "1    [ACCESS_URL]https://www.aepd.es/informes/[MEDI...\n",
       "2    [TITLE_es]Códigos y otros libros electrónicos[...\n",
       "Name: DISTRIBUCIONES, dtype: object"
      ]
     },
     "execution_count": 17,
     "metadata": {},
     "output_type": "execute_result"
    }
   ],
   "source": [
    "df['DISTRIBUCIONES'][0:3]"
   ]
  },
  {
   "attachments": {},
   "cell_type": "markdown",
   "id": "e38ac0bc",
   "metadata": {},
   "source": [
    "This is our row of interest. The one used in the previous excecise:"
   ]
  },
  {
   "cell_type": "code",
   "execution_count": 18,
   "id": "89756200",
   "metadata": {},
   "outputs": [
    {
     "data": {
      "text/html": [
       "<div>\n",
       "<style scoped>\n",
       "    .dataframe tbody tr th:only-of-type {\n",
       "        vertical-align: middle;\n",
       "    }\n",
       "\n",
       "    .dataframe tbody tr th {\n",
       "        vertical-align: top;\n",
       "    }\n",
       "\n",
       "    .dataframe thead th {\n",
       "        text-align: right;\n",
       "    }\n",
       "</style>\n",
       "<table border=\"1\" class=\"dataframe\">\n",
       "  <thead>\n",
       "    <tr style=\"text-align: right;\">\n",
       "      <th></th>\n",
       "      <th>URL</th>\n",
       "      <th>IDENTIFICADOR</th>\n",
       "      <th>TÍTULO</th>\n",
       "      <th>DESCRIPCIÓN</th>\n",
       "      <th>TEMÁTICAS</th>\n",
       "      <th>ETIQUETAS</th>\n",
       "      <th>FECHA DE CREACIÓN</th>\n",
       "      <th>FECHA DE ÚLTIMA MODIFICACIÓN</th>\n",
       "      <th>FRECUENCIA DE ACTUALIZACIÓN</th>\n",
       "      <th>IDIOMAS</th>\n",
       "      <th>ÓRGANO PUBLICADOR</th>\n",
       "      <th>CONDICIONES DE USO</th>\n",
       "      <th>COBERTURA GEOGRÁFICA</th>\n",
       "      <th>COBERTURA TEMPORAL</th>\n",
       "      <th>VIGENCIA DEL RECURSO</th>\n",
       "      <th>RECURSOS RELACIONADOS</th>\n",
       "      <th>NORMATIVA</th>\n",
       "      <th>DISTRIBUCIONES</th>\n",
       "    </tr>\n",
       "  </thead>\n",
       "  <tbody>\n",
       "    <tr>\n",
       "      <th>52701</th>\n",
       "      <td>https://datos.gob.es/catalogo/b62c72eb-b291-40...</td>\n",
       "      <td>urn:ine:es:TABLA:T3:65:33791</td>\n",
       "      <td>[en]Population by sex, municipalities and coun...</td>\n",
       "      <td>[en]Table of INEBase Population by sex, munici...</td>\n",
       "      <td>Demografía</td>\n",
       "      <td>[en]Abroad//Africa//Algeria//America//Brazil//...</td>\n",
       "      <td>2012-01-13T12:00:00+0100</td>\n",
       "      <td>2022-01-17T12:00:00+0100</td>\n",
       "      <td>[TYPE]http://www.w3.org/2006/time#years[VALUE]1</td>\n",
       "      <td>es//en</td>\n",
       "      <td>Instituto Nacional de Estadística</td>\n",
       "      <td>https://www.ine.es/aviso_legal</td>\n",
       "      <td>Girona</td>\n",
       "      <td>2003-01-01T01:00:00+0100-2022-01-01T01:00:00+0100</td>\n",
       "      <td>NaN</td>\n",
       "      <td>https://www.ine.es/dyngs/IOE/es/operacion.htm?...</td>\n",
       "      <td>https://www.ine.es/dynt3/metadatos/es/Respuest...</td>\n",
       "      <td>[TITLE_en]Html[TITLE_es]Html[ACCESS_URL]https:...</td>\n",
       "    </tr>\n",
       "  </tbody>\n",
       "</table>\n",
       "</div>"
      ],
      "text/plain": [
       "                                                     URL  \\\n",
       "52701  https://datos.gob.es/catalogo/b62c72eb-b291-40...   \n",
       "\n",
       "                      IDENTIFICADOR  \\\n",
       "52701  urn:ine:es:TABLA:T3:65:33791   \n",
       "\n",
       "                                                  TÍTULO  \\\n",
       "52701  [en]Population by sex, municipalities and coun...   \n",
       "\n",
       "                                             DESCRIPCIÓN   TEMÁTICAS  \\\n",
       "52701  [en]Table of INEBase Population by sex, munici...  Demografía   \n",
       "\n",
       "                                               ETIQUETAS  \\\n",
       "52701  [en]Abroad//Africa//Algeria//America//Brazil//...   \n",
       "\n",
       "              FECHA DE CREACIÓN FECHA DE ÚLTIMA MODIFICACIÓN  \\\n",
       "52701  2012-01-13T12:00:00+0100     2022-01-17T12:00:00+0100   \n",
       "\n",
       "                           FRECUENCIA DE ACTUALIZACIÓN IDIOMAS  \\\n",
       "52701  [TYPE]http://www.w3.org/2006/time#years[VALUE]1  es//en   \n",
       "\n",
       "                       ÓRGANO PUBLICADOR              CONDICIONES DE USO  \\\n",
       "52701  Instituto Nacional de Estadística  https://www.ine.es/aviso_legal   \n",
       "\n",
       "      COBERTURA GEOGRÁFICA                                 COBERTURA TEMPORAL  \\\n",
       "52701               Girona  2003-01-01T01:00:00+0100-2022-01-01T01:00:00+0100   \n",
       "\n",
       "      VIGENCIA DEL RECURSO                              RECURSOS RELACIONADOS  \\\n",
       "52701                  NaN  https://www.ine.es/dyngs/IOE/es/operacion.htm?...   \n",
       "\n",
       "                                               NORMATIVA  \\\n",
       "52701  https://www.ine.es/dynt3/metadatos/es/Respuest...   \n",
       "\n",
       "                                          DISTRIBUCIONES  \n",
       "52701  [TITLE_en]Html[TITLE_es]Html[ACCESS_URL]https:...  "
      ]
     },
     "execution_count": 18,
     "metadata": {},
     "output_type": "execute_result"
    }
   ],
   "source": [
    "my_row = df[df['DISTRIBUCIONES'].str.contains('https://servicios.ine.es/wstempus/js/es/DATOS_TABLA/33791?tip=AM', na=False, regex=False)]\n",
    "my_row"
   ]
  },
  {
   "cell_type": "code",
   "execution_count": 19,
   "id": "713ec4be",
   "metadata": {},
   "outputs": [
    {
     "data": {
      "text/plain": [
       "52701    [TITLE_en]Html[TITLE_es]Html[ACCESS_URL]https://www.ine.es/jaxiT3/Tabla.htm?t=33791[MEDIA_TYPE]HTML//[TITLE_en]Excel: XLSx extension[TITLE_es]Excel: Extension XLSx[ACCESS_URL]https://www.ine.es/jaxiT3/files/t/xlsx/33791.xlsx[MEDIA_TYPE]XLSX//[TITLE_en]CSV: Separated by ;[TITLE_es]CSV: separado por ;[ACCESS_URL]https://www.ine.es/jaxiT3/files/t/csv_bdsc/33791.csv[MEDIA_TYPE]CSV//[TITLE_en]CSV: Tab Separated[TITLE_es]CSV: separado por tabuladores[ACCESS_URL]https://www.ine.es/jaxiT3/files/t/csv_bd/33791.csv[MEDIA_TYPE]CSV//[TITLE_en]Json[TITLE_es]Json[ACCESS_URL]https://servicios.ine.es/wstempus/js/es/DATOS_TABLA/33791?tip=AM[MEDIA_TYPE]JSON//[TITLE_en]Pc-Axis[TITLE_es]Pc-Axis[ACCESS_URL]https://www.ine.es/jaxiT3/files/t/px/33791.px[MEDIA_TYPE]PC-Axis//[TITLE_en]Excel: XLS extension[TITLE_es]Excel: Extensión XLS[ACCESS_URL]https://www.ine.es/jaxiT3/files/t/xls/33791.xls[MEDIA_TYPE]XLS//[TITLE_en]Plain Text: separated by comma[TITLE_es]Texto plano: separado por ,[ACCESS_URL]https://www.ine.es/jaxiT3/files/t/csv_c/33791.csv_c[MEDIA_TYPE]CSV//[TITLE_en]Plain Text: separated by tab[TITLE_es]Texto plano: separado por tabuladores[ACCESS_URL]https://www.ine.es/jaxiT3/files/t/csv/33791.csv[MEDIA_TYPE]CSV//[TITLE_en]Plain Text: separated by semicolons[TITLE_es]Texto plano: separado por ;[ACCESS_URL]https://www.ine.es/jaxiT3/files/t/csv_sc/33791.csv_sc[MEDIA_TYPE]CSV\n",
       "Name: DISTRIBUCIONES, dtype: object"
      ]
     },
     "execution_count": 19,
     "metadata": {},
     "output_type": "execute_result"
    }
   ],
   "source": [
    "pd.set_option('display.max_colwidth', None)  # Set the option to display the full content of each cell\n",
    "my_row['DISTRIBUCIONES']"
   ]
  },
  {
   "attachments": {},
   "cell_type": "markdown",
   "id": "14b10cb6",
   "metadata": {},
   "source": [
    "I still have my row identified ;)\n",
    "\n",
    "Let's see its characteristics:"
   ]
  },
  {
   "cell_type": "code",
   "execution_count": 20,
   "id": "62e396e6",
   "metadata": {},
   "outputs": [
    {
     "data": {
      "text/plain": [
       "'[en]Population by sex, municipalities and country of birth (API identifier: 33791)[es]Población por sexo, municipios y país de nacimiento (Identificador API: 33791)'"
      ]
     },
     "execution_count": 20,
     "metadata": {},
     "output_type": "execute_result"
    }
   ],
   "source": [
    "pd.reset_option('display.max_colwidth')\n",
    "df.iloc[52701]['TÍTULO']"
   ]
  },
  {
   "attachments": {},
   "cell_type": "markdown",
   "id": "d17e1ec5",
   "metadata": {},
   "source": [
    "Let us reduce the dataframe to the rows of interest:"
   ]
  },
  {
   "cell_type": "code",
   "execution_count": 21,
   "id": "652d7f46",
   "metadata": {},
   "outputs": [
    {
     "name": "stdout",
     "output_type": "stream",
     "text": [
      "53\n"
     ]
    }
   ],
   "source": [
    "filtered_df = df[df['TÍTULO'].str.contains(\"[en]Population by sex, municipalities and country of birth\", case=False, regex=False)]\n",
    "print(len(filtered_df))"
   ]
  },
  {
   "cell_type": "code",
   "execution_count": 22,
   "id": "31c0f043",
   "metadata": {},
   "outputs": [],
   "source": [
    "# filtered_df.to_csv('Data_of_interest.csv', index=False)\n",
    "# filtered_df.to_excel('Data_of_interest.xlsx', index=False)"
   ]
  },
  {
   "attachments": {},
   "cell_type": "markdown",
   "id": "034a0ea6",
   "metadata": {},
   "source": [
    "Let us extract URLs:"
   ]
  },
  {
   "cell_type": "code",
   "execution_count": 23,
   "id": "ad54e848",
   "metadata": {},
   "outputs": [
    {
     "name": "stdout",
     "output_type": "stream",
     "text": [
      "[TITLE_en]Html[TITLE_es]Html[ACCESS_URL]https://www.ine.es/jaxiT3/Tabla.htm?t=33791[MEDIA_TYPE]HTML//[TITLE_en]Excel: XLSx extension[TITLE_es]Excel: Extension XLSx[ACCESS_URL]https://www.ine.es/jaxiT3/files/t/xlsx/33791.xlsx[MEDIA_TYPE]XLSX//[TITLE_en]CSV: Separated by ;[TITLE_es]CSV: separado por ;[ACCESS_URL]https://www.ine.es/jaxiT3/files/t/csv_bdsc/33791.csv[MEDIA_TYPE]CSV//[TITLE_en]CSV: Tab Separated[TITLE_es]CSV: separado por tabuladores[ACCESS_URL]https://www.ine.es/jaxiT3/files/t/csv_bd/33791.csv[MEDIA_TYPE]CSV//[TITLE_en]Json[TITLE_es]Json[ACCESS_URL]https://servicios.ine.es/wstempus/js/es/DATOS_TABLA/33791?tip=AM[MEDIA_TYPE]JSON//[TITLE_en]Pc-Axis[TITLE_es]Pc-Axis[ACCESS_URL]https://www.ine.es/jaxiT3/files/t/px/33791.px[MEDIA_TYPE]PC-Axis//[TITLE_en]Excel: XLS extension[TITLE_es]Excel: Extensión XLS[ACCESS_URL]https://www.ine.es/jaxiT3/files/t/xls/33791.xls[MEDIA_TYPE]XLS//[TITLE_en]Plain Text: separated by comma[TITLE_es]Texto plano: separado por ,[ACCESS_URL]https://www.ine.es/jaxiT3/files/t/csv_c/33791.csv_c[MEDIA_TYPE]CSV//[TITLE_en]Plain Text: separated by tab[TITLE_es]Texto plano: separado por tabuladores[ACCESS_URL]https://www.ine.es/jaxiT3/files/t/csv/33791.csv[MEDIA_TYPE]CSV//[TITLE_en]Plain Text: separated by semicolons[TITLE_es]Texto plano: separado por ;[ACCESS_URL]https://www.ine.es/jaxiT3/files/t/csv_sc/33791.csv_sc[MEDIA_TYPE]CSV\n",
      "\n",
      "Json[TITLE_es]Json[ACCESS_URL]https://servicios.ine.es/wstempus/js/es/DATOS_TABLA/33791?tip=AM[MEDIA_TYPE]JSON//\n",
      "\n",
      "Link --> https://servicios.ine.es/wstempus/js/es/DATOS_TABLA/33791?tip=AM\n"
     ]
    }
   ],
   "source": [
    "for i in filtered_df.index:\n",
    "    if i==52701:\n",
    "        print(filtered_df.loc[i].to_dict()['DISTRIBUCIONES'])\n",
    "        dist = filtered_df.loc[i].to_dict()['DISTRIBUCIONES'].split('[TITLE_en]')\n",
    "\n",
    "        for resource in dist:\n",
    "\n",
    "            if resource[:4] == 'Json':\n",
    "                print()\n",
    "                print(resource)\n",
    "                link = resource.split('[ACCESS_URL]')[1].split('[MEDIA_TYPE]')[0]\n",
    "                print()\n",
    "                print('Link -->',link)\n",
    "                mylink = link\n",
    "\n"
   ]
  },
  {
   "attachments": {},
   "cell_type": "markdown",
   "id": "66e9bbac",
   "metadata": {},
   "source": [
    "Let us proceed with all the rows:"
   ]
  },
  {
   "cell_type": "code",
   "execution_count": 25,
   "id": "9263b9b7",
   "metadata": {},
   "outputs": [
    {
     "name": "stdout",
     "output_type": "stream",
     "text": [
      "-- The following is my link:\n",
      "Link position: 38 --> https://servicios.ine.es/wstempus/js/es/DATOS_TABLA/33791?tip=AM\n"
     ]
    }
   ],
   "source": [
    "distribuciones = []\n",
    "n = 0\n",
    "\n",
    "for i in filtered_df.index:\n",
    "    dist = filtered_df.loc[i].to_dict()['DISTRIBUCIONES'].split('[TITLE_en]')\n",
    "    \n",
    "    for resource in dist:\n",
    "        if resource[:4] == 'Json':\n",
    "            link = resource.split('[ACCESS_URL]')[1].split('[MEDIA_TYPE]')[0]\n",
    "            if link == mylink:\n",
    "                print('-- The following is my link:')\n",
    "\n",
    "                print(f'Link position: {n} -->',link)\n",
    "            n += 1\n",
    "\n",
    "            distribuciones.append(link)\n"
   ]
  },
  {
   "cell_type": "code",
   "execution_count": 26,
   "id": "c58fd95c",
   "metadata": {},
   "outputs": [
    {
     "name": "stdout",
     "output_type": "stream",
     "text": [
      "53\n"
     ]
    },
    {
     "data": {
      "text/plain": [
       "['https://servicios.ine.es/wstempus/js/es/DATOS_TABLA/33923?tip=AM',\n",
       " 'https://servicios.ine.es/wstempus/js/es/DATOS_TABLA/33827?tip=AM',\n",
       " 'https://servicios.ine.es/wstempus/js/es/DATOS_TABLA/33809?tip=AM']"
      ]
     },
     "execution_count": 26,
     "metadata": {},
     "output_type": "execute_result"
    }
   ],
   "source": [
    "print(len(distribuciones))\n",
    "my_distributions = distribuciones[0:3]\n",
    "my_distributions"
   ]
  },
  {
   "cell_type": "code",
   "execution_count": 27,
   "id": "815f1073-f637-4d5b-9de5-e738ea80b3f2",
   "metadata": {},
   "outputs": [],
   "source": [
    "def extract_data(my_distributions):\n",
    "    basic_headers = {'User-Agent': 'Mozilla/5.0'}\n",
    "    population_all = []\n",
    "    n = 0\n",
    "    for link in my_distributions:\n",
    "        print('Number of links processed:', n)\n",
    "        n += 1\n",
    "        \n",
    "        payload = requests.get(link, headers=basic_headers)\n",
    "        payload_json = payload.json()\n",
    "        \n",
    "        for reg in payload_json:\n",
    "\n",
    "            try:\n",
    "                if reg['MetaData'][1]['Variable']['Codigo'] == 'MUN':\n",
    "                    temp = {\"id\": reg['COD']}\n",
    "\n",
    "                    temp['Poblacion'] = reg['MetaData'][1]['Nombre']\n",
    "                    temp['Origen'] = reg['MetaData'][2]['Nombre']\n",
    "\n",
    "                    for row in reg['Data']:\n",
    "                        temp[datetime.datetime.strptime(row['Fecha'], '%Y-%m-%dT%H:%M:%S.000+01:00').year] = int(row['Valor'])\n",
    "\n",
    "                    population_all.append(temp)\n",
    "            except Exception as e:\n",
    "                print(e)\n",
    "                pass\n",
    "    \n",
    "    return population_all"
   ]
  },
  {
   "cell_type": "code",
   "execution_count": 28,
   "id": "78e04467",
   "metadata": {},
   "outputs": [
    {
     "name": "stdout",
     "output_type": "stream",
     "text": [
      "Number of links processed: 0\n",
      "Number of links processed: 1\n",
      "47280\n"
     ]
    },
    {
     "data": {
      "text/html": [
       "<div>\n",
       "<style scoped>\n",
       "    .dataframe tbody tr th:only-of-type {\n",
       "        vertical-align: middle;\n",
       "    }\n",
       "\n",
       "    .dataframe tbody tr th {\n",
       "        vertical-align: top;\n",
       "    }\n",
       "\n",
       "    .dataframe thead th {\n",
       "        text-align: right;\n",
       "    }\n",
       "</style>\n",
       "<table border=\"1\" class=\"dataframe\">\n",
       "  <thead>\n",
       "    <tr style=\"text-align: right;\">\n",
       "      <th></th>\n",
       "      <th>id</th>\n",
       "      <th>Poblacion</th>\n",
       "      <th>Origen</th>\n",
       "      <th>2022</th>\n",
       "      <th>2021</th>\n",
       "      <th>2020</th>\n",
       "      <th>2019</th>\n",
       "      <th>2018</th>\n",
       "      <th>2017</th>\n",
       "      <th>2016</th>\n",
       "      <th>...</th>\n",
       "      <th>2012</th>\n",
       "      <th>2011</th>\n",
       "      <th>2010</th>\n",
       "      <th>2009</th>\n",
       "      <th>2008</th>\n",
       "      <th>2007</th>\n",
       "      <th>2006</th>\n",
       "      <th>2005</th>\n",
       "      <th>2004</th>\n",
       "      <th>2003</th>\n",
       "    </tr>\n",
       "  </thead>\n",
       "  <tbody>\n",
       "    <tr>\n",
       "      <th>0</th>\n",
       "      <td>PC5664906</td>\n",
       "      <td>Abejar</td>\n",
       "      <td>Total</td>\n",
       "      <td>273.0</td>\n",
       "      <td>273.0</td>\n",
       "      <td>286.0</td>\n",
       "      <td>297.0</td>\n",
       "      <td>302.0</td>\n",
       "      <td>318.0</td>\n",
       "      <td>327.0</td>\n",
       "      <td>...</td>\n",
       "      <td>367.0</td>\n",
       "      <td>378.0</td>\n",
       "      <td>380.0</td>\n",
       "      <td>383.0</td>\n",
       "      <td>390.0</td>\n",
       "      <td>405.0</td>\n",
       "      <td>406.0</td>\n",
       "      <td>392.0</td>\n",
       "      <td>399.0</td>\n",
       "      <td>395.0</td>\n",
       "    </tr>\n",
       "    <tr>\n",
       "      <th>1</th>\n",
       "      <td>PC5664905</td>\n",
       "      <td>Abejar</td>\n",
       "      <td>España</td>\n",
       "      <td>242.0</td>\n",
       "      <td>239.0</td>\n",
       "      <td>257.0</td>\n",
       "      <td>264.0</td>\n",
       "      <td>269.0</td>\n",
       "      <td>290.0</td>\n",
       "      <td>300.0</td>\n",
       "      <td>...</td>\n",
       "      <td>333.0</td>\n",
       "      <td>340.0</td>\n",
       "      <td>337.0</td>\n",
       "      <td>344.0</td>\n",
       "      <td>350.0</td>\n",
       "      <td>373.0</td>\n",
       "      <td>379.0</td>\n",
       "      <td>376.0</td>\n",
       "      <td>386.0</td>\n",
       "      <td>383.0</td>\n",
       "    </tr>\n",
       "    <tr>\n",
       "      <th>2</th>\n",
       "      <td>PC5664904</td>\n",
       "      <td>Abejar</td>\n",
       "      <td>Extranjero</td>\n",
       "      <td>31.0</td>\n",
       "      <td>34.0</td>\n",
       "      <td>29.0</td>\n",
       "      <td>33.0</td>\n",
       "      <td>33.0</td>\n",
       "      <td>28.0</td>\n",
       "      <td>27.0</td>\n",
       "      <td>...</td>\n",
       "      <td>34.0</td>\n",
       "      <td>38.0</td>\n",
       "      <td>43.0</td>\n",
       "      <td>39.0</td>\n",
       "      <td>40.0</td>\n",
       "      <td>32.0</td>\n",
       "      <td>27.0</td>\n",
       "      <td>16.0</td>\n",
       "      <td>13.0</td>\n",
       "      <td>12.0</td>\n",
       "    </tr>\n",
       "    <tr>\n",
       "      <th>3</th>\n",
       "      <td>PC5664875</td>\n",
       "      <td>Abejar</td>\n",
       "      <td>Europa (sin España)</td>\n",
       "      <td>12.0</td>\n",
       "      <td>15.0</td>\n",
       "      <td>17.0</td>\n",
       "      <td>20.0</td>\n",
       "      <td>20.0</td>\n",
       "      <td>15.0</td>\n",
       "      <td>16.0</td>\n",
       "      <td>...</td>\n",
       "      <td>17.0</td>\n",
       "      <td>18.0</td>\n",
       "      <td>18.0</td>\n",
       "      <td>22.0</td>\n",
       "      <td>19.0</td>\n",
       "      <td>13.0</td>\n",
       "      <td>9.0</td>\n",
       "      <td>6.0</td>\n",
       "      <td>2.0</td>\n",
       "      <td>1.0</td>\n",
       "    </tr>\n",
       "    <tr>\n",
       "      <th>4</th>\n",
       "      <td>PC5664874</td>\n",
       "      <td>Abejar</td>\n",
       "      <td>UE28 sin España</td>\n",
       "      <td>NaN</td>\n",
       "      <td>NaN</td>\n",
       "      <td>16.0</td>\n",
       "      <td>19.0</td>\n",
       "      <td>19.0</td>\n",
       "      <td>14.0</td>\n",
       "      <td>15.0</td>\n",
       "      <td>...</td>\n",
       "      <td>16.0</td>\n",
       "      <td>17.0</td>\n",
       "      <td>17.0</td>\n",
       "      <td>21.0</td>\n",
       "      <td>18.0</td>\n",
       "      <td>13.0</td>\n",
       "      <td>9.0</td>\n",
       "      <td>6.0</td>\n",
       "      <td>2.0</td>\n",
       "      <td>1.0</td>\n",
       "    </tr>\n",
       "  </tbody>\n",
       "</table>\n",
       "<p>5 rows × 23 columns</p>\n",
       "</div>"
      ],
      "text/plain": [
       "          id Poblacion               Origen   2022   2021   2020   2019  \\\n",
       "0  PC5664906    Abejar                Total  273.0  273.0  286.0  297.0   \n",
       "1  PC5664905    Abejar               España  242.0  239.0  257.0  264.0   \n",
       "2  PC5664904    Abejar           Extranjero   31.0   34.0   29.0   33.0   \n",
       "3  PC5664875    Abejar  Europa (sin España)   12.0   15.0   17.0   20.0   \n",
       "4  PC5664874    Abejar      UE28 sin España    NaN    NaN   16.0   19.0   \n",
       "\n",
       "    2018   2017   2016  ...   2012   2011   2010   2009   2008   2007   2006  \\\n",
       "0  302.0  318.0  327.0  ...  367.0  378.0  380.0  383.0  390.0  405.0  406.0   \n",
       "1  269.0  290.0  300.0  ...  333.0  340.0  337.0  344.0  350.0  373.0  379.0   \n",
       "2   33.0   28.0   27.0  ...   34.0   38.0   43.0   39.0   40.0   32.0   27.0   \n",
       "3   20.0   15.0   16.0  ...   17.0   18.0   18.0   22.0   19.0   13.0    9.0   \n",
       "4   19.0   14.0   15.0  ...   16.0   17.0   17.0   21.0   18.0   13.0    9.0   \n",
       "\n",
       "    2005   2004   2003  \n",
       "0  392.0  399.0  395.0  \n",
       "1  376.0  386.0  383.0  \n",
       "2   16.0   13.0   12.0  \n",
       "3    6.0    2.0    1.0  \n",
       "4    6.0    2.0    1.0  \n",
       "\n",
       "[5 rows x 23 columns]"
      ]
     },
     "execution_count": 28,
     "metadata": {},
     "output_type": "execute_result"
    }
   ],
   "source": [
    "population_all = extract_data(distribuciones[0:2])\n",
    "\n",
    "population_std = pd.DataFrame(population_all, columns=population_all[0].keys())\n",
    "print(len(population_std))\n",
    "population_std.head()"
   ]
  },
  {
   "cell_type": "code",
   "execution_count": 30,
   "id": "53cd34f5",
   "metadata": {},
   "outputs": [
    {
     "name": "stdout",
     "output_type": "stream",
     "text": [
      "Number of links processed: 0\n",
      "9600\n"
     ]
    },
    {
     "data": {
      "text/html": [
       "<div>\n",
       "<style scoped>\n",
       "    .dataframe tbody tr th:only-of-type {\n",
       "        vertical-align: middle;\n",
       "    }\n",
       "\n",
       "    .dataframe tbody tr th {\n",
       "        vertical-align: top;\n",
       "    }\n",
       "\n",
       "    .dataframe thead th {\n",
       "        text-align: right;\n",
       "    }\n",
       "</style>\n",
       "<table border=\"1\" class=\"dataframe\">\n",
       "  <thead>\n",
       "    <tr style=\"text-align: right;\">\n",
       "      <th></th>\n",
       "      <th>id</th>\n",
       "      <th>Poblacion</th>\n",
       "      <th>Origen</th>\n",
       "      <th>2022</th>\n",
       "      <th>2021</th>\n",
       "      <th>2020</th>\n",
       "      <th>2019</th>\n",
       "      <th>2018</th>\n",
       "      <th>2017</th>\n",
       "      <th>2016</th>\n",
       "      <th>...</th>\n",
       "      <th>2012</th>\n",
       "      <th>2011</th>\n",
       "      <th>2010</th>\n",
       "      <th>2009</th>\n",
       "      <th>2008</th>\n",
       "      <th>2007</th>\n",
       "      <th>2006</th>\n",
       "      <th>2005</th>\n",
       "      <th>2004</th>\n",
       "      <th>2003</th>\n",
       "    </tr>\n",
       "  </thead>\n",
       "  <tbody>\n",
       "    <tr>\n",
       "      <th>0</th>\n",
       "      <td>PC5660878</td>\n",
       "      <td>Alájar</td>\n",
       "      <td>Total</td>\n",
       "      <td>802.0</td>\n",
       "      <td>814.0</td>\n",
       "      <td>759.0</td>\n",
       "      <td>756.0</td>\n",
       "      <td>763.0</td>\n",
       "      <td>777.0</td>\n",
       "      <td>814.0</td>\n",
       "      <td>...</td>\n",
       "      <td>803.0</td>\n",
       "      <td>798.0</td>\n",
       "      <td>806.0</td>\n",
       "      <td>808.0</td>\n",
       "      <td>802.0</td>\n",
       "      <td>811.0</td>\n",
       "      <td>821.0</td>\n",
       "      <td>771.0</td>\n",
       "      <td>750.0</td>\n",
       "      <td>769.0</td>\n",
       "    </tr>\n",
       "    <tr>\n",
       "      <th>1</th>\n",
       "      <td>PC5660877</td>\n",
       "      <td>Alájar</td>\n",
       "      <td>España</td>\n",
       "      <td>732.0</td>\n",
       "      <td>740.0</td>\n",
       "      <td>697.0</td>\n",
       "      <td>696.0</td>\n",
       "      <td>707.0</td>\n",
       "      <td>720.0</td>\n",
       "      <td>753.0</td>\n",
       "      <td>...</td>\n",
       "      <td>739.0</td>\n",
       "      <td>738.0</td>\n",
       "      <td>747.0</td>\n",
       "      <td>750.0</td>\n",
       "      <td>743.0</td>\n",
       "      <td>749.0</td>\n",
       "      <td>757.0</td>\n",
       "      <td>729.0</td>\n",
       "      <td>713.0</td>\n",
       "      <td>724.0</td>\n",
       "    </tr>\n",
       "    <tr>\n",
       "      <th>2</th>\n",
       "      <td>PC5660876</td>\n",
       "      <td>Alájar</td>\n",
       "      <td>Extranjero</td>\n",
       "      <td>70.0</td>\n",
       "      <td>74.0</td>\n",
       "      <td>62.0</td>\n",
       "      <td>60.0</td>\n",
       "      <td>56.0</td>\n",
       "      <td>57.0</td>\n",
       "      <td>61.0</td>\n",
       "      <td>...</td>\n",
       "      <td>64.0</td>\n",
       "      <td>60.0</td>\n",
       "      <td>59.0</td>\n",
       "      <td>58.0</td>\n",
       "      <td>59.0</td>\n",
       "      <td>62.0</td>\n",
       "      <td>64.0</td>\n",
       "      <td>42.0</td>\n",
       "      <td>37.0</td>\n",
       "      <td>45.0</td>\n",
       "    </tr>\n",
       "    <tr>\n",
       "      <th>3</th>\n",
       "      <td>PC5660847</td>\n",
       "      <td>Alájar</td>\n",
       "      <td>Europa (sin España)</td>\n",
       "      <td>41.0</td>\n",
       "      <td>47.0</td>\n",
       "      <td>40.0</td>\n",
       "      <td>41.0</td>\n",
       "      <td>38.0</td>\n",
       "      <td>39.0</td>\n",
       "      <td>44.0</td>\n",
       "      <td>...</td>\n",
       "      <td>52.0</td>\n",
       "      <td>50.0</td>\n",
       "      <td>49.0</td>\n",
       "      <td>46.0</td>\n",
       "      <td>49.0</td>\n",
       "      <td>51.0</td>\n",
       "      <td>53.0</td>\n",
       "      <td>36.0</td>\n",
       "      <td>33.0</td>\n",
       "      <td>41.0</td>\n",
       "    </tr>\n",
       "    <tr>\n",
       "      <th>4</th>\n",
       "      <td>PC5660846</td>\n",
       "      <td>Alájar</td>\n",
       "      <td>UE28 sin España</td>\n",
       "      <td>NaN</td>\n",
       "      <td>NaN</td>\n",
       "      <td>38.0</td>\n",
       "      <td>38.0</td>\n",
       "      <td>35.0</td>\n",
       "      <td>36.0</td>\n",
       "      <td>39.0</td>\n",
       "      <td>...</td>\n",
       "      <td>48.0</td>\n",
       "      <td>46.0</td>\n",
       "      <td>46.0</td>\n",
       "      <td>43.0</td>\n",
       "      <td>46.0</td>\n",
       "      <td>47.0</td>\n",
       "      <td>52.0</td>\n",
       "      <td>35.0</td>\n",
       "      <td>31.0</td>\n",
       "      <td>39.0</td>\n",
       "    </tr>\n",
       "  </tbody>\n",
       "</table>\n",
       "<p>5 rows × 23 columns</p>\n",
       "</div>"
      ],
      "text/plain": [
       "          id Poblacion               Origen   2022   2021   2020   2019  \\\n",
       "0  PC5660878    Alájar                Total  802.0  814.0  759.0  756.0   \n",
       "1  PC5660877    Alájar               España  732.0  740.0  697.0  696.0   \n",
       "2  PC5660876    Alájar           Extranjero   70.0   74.0   62.0   60.0   \n",
       "3  PC5660847    Alájar  Europa (sin España)   41.0   47.0   40.0   41.0   \n",
       "4  PC5660846    Alájar      UE28 sin España    NaN    NaN   38.0   38.0   \n",
       "\n",
       "    2018   2017   2016  ...   2012   2011   2010   2009   2008   2007   2006  \\\n",
       "0  763.0  777.0  814.0  ...  803.0  798.0  806.0  808.0  802.0  811.0  821.0   \n",
       "1  707.0  720.0  753.0  ...  739.0  738.0  747.0  750.0  743.0  749.0  757.0   \n",
       "2   56.0   57.0   61.0  ...   64.0   60.0   59.0   58.0   59.0   62.0   64.0   \n",
       "3   38.0   39.0   44.0  ...   52.0   50.0   49.0   46.0   49.0   51.0   53.0   \n",
       "4   35.0   36.0   39.0  ...   48.0   46.0   46.0   43.0   46.0   47.0   52.0   \n",
       "\n",
       "    2005   2004   2003  \n",
       "0  771.0  750.0  769.0  \n",
       "1  729.0  713.0  724.0  \n",
       "2   42.0   37.0   45.0  \n",
       "3   36.0   33.0   41.0  \n",
       "4   35.0   31.0   39.0  \n",
       "\n",
       "[5 rows x 23 columns]"
      ]
     },
     "execution_count": 30,
     "metadata": {},
     "output_type": "execute_result"
    }
   ],
   "source": [
    "population_all = extract_data(distribuciones[2:3])\n",
    "population_df = pd.DataFrame(population_all, columns=population_all[0].keys())\n",
    "print(len(population_df))\n",
    "population_df.head()"
   ]
  }
 ],
 "metadata": {
  "kernelspec": {
   "display_name": "Python 3 (ipykernel)",
   "language": "python",
   "name": "python3"
  },
  "language_info": {
   "codemirror_mode": {
    "name": "ipython",
    "version": 3
   },
   "file_extension": ".py",
   "mimetype": "text/x-python",
   "name": "python",
   "nbconvert_exporter": "python",
   "pygments_lexer": "ipython3",
   "version": "3.9.12"
  }
 },
 "nbformat": 4,
 "nbformat_minor": 5
}
